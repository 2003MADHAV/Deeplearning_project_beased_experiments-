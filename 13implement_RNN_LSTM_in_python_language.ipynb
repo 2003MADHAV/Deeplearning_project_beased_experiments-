{
  "nbformat": 4,
  "nbformat_minor": 0,
  "metadata": {
    "colab": {
      "provenance": [],
      "gpuType": "T4",
      "authorship_tag": "ABX9TyPfUeYs4BxroYUumNjz7ZzG",
      "include_colab_link": true
    },
    "kernelspec": {
      "name": "python3",
      "display_name": "Python 3"
    },
    "language_info": {
      "name": "python"
    },
    "accelerator": "GPU"
  },
  "cells": [
    {
      "cell_type": "markdown",
      "metadata": {
        "id": "view-in-github",
        "colab_type": "text"
      },
      "source": [
        "<a href=\"https://colab.research.google.com/github/2003MADHAV/Deeplearning_project_beased_experiments-/blob/main/13implement_RNN_LSTM_in_python_language.ipynb\" target=\"_parent\"><img src=\"https://colab.research.google.com/assets/colab-badge.svg\" alt=\"Open In Colab\"/></a>"
      ]
    },
    {
      "cell_type": "code",
      "execution_count": null,
      "metadata": {
        "id": "d8aPDxcVs6l6"
      },
      "outputs": [],
      "source": [
        "import tensorflow as tf\n",
        "from tensorflow.keras.models import Sequential\n",
        "from tensorflow.keras.layers import Dense, Dropout, LSTM\n",
        "from numpy import mean, std\n",
        "from matplotlib import pyplot as plt\n",
        "from sklearn.model_selection import KFold\n",
        "from tensorflow.keras.datasets import mnist\n",
        "from tensorflow.keras.utils import to_categorical\n"
      ]
    },
    {
      "cell_type": "code",
      "source": [
        "def load_dataset():\n",
        "    # Load dataset\n",
        "    (trainX, trainY), (testX, testY) = mnist.load_data()\n",
        "\n",
        "    # Reshape dataset to have a single channel\n",
        "    trainX = trainX.reshape((trainX.shape[0], 28, 28, 1))\n",
        "    testX = testX.reshape((testX.shape[0], 28, 28, 1))\n",
        "\n",
        "    # One-hot encode target values\n",
        "    trainY = to_categorical(trainY)\n",
        "    testY = to_categorical(testY)\n",
        "\n",
        "    return trainX, trainY, testX, testY\n"
      ],
      "metadata": {
        "id": "XWYE0IVPteuZ"
      },
      "execution_count": null,
      "outputs": []
    },
    {
      "cell_type": "code",
      "source": [
        "def prep_pixels(train, test):\n",
        "    # Convert from integers to floats\n",
        "    train_norm = train.astype('float32')\n",
        "    test_norm = test.astype('float32')\n",
        "\n",
        "    # Normalize to the range [0, 1]\n",
        "    train_norm = train_norm / 255.0\n",
        "    test_norm = test_norm / 255.0\n",
        "\n",
        "    # Return normalized images\n",
        "    return train_norm, test_norm\n"
      ],
      "metadata": {
        "id": "KZNqdGnBtloA"
      },
      "execution_count": null,
      "outputs": []
    },
    {
      "cell_type": "code",
      "source": [
        "def build_model():\n",
        "    model = Sequential()\n",
        "    model.add(LSTM(128, input_shape=(28, 28), activation='relu', return_sequences=True))\n",
        "    model.add(Dropout(0.2))\n",
        "    model.add(LSTM(128, activation='relu'))\n",
        "    model.add(Dropout(0.1))\n",
        "    model.add(Dense(32, activation='relu'))\n",
        "    model.add(Dropout(0.2))\n",
        "    model.add(Dense(10, activation='softmax'))\n",
        "\n",
        "    print(model.summary())\n",
        "\n",
        "    model.compile(optimizer='adam', loss='categorical_crossentropy', metrics=['accuracy'])\n",
        "\n",
        "    return model\n"
      ],
      "metadata": {
        "id": "72g7dX7ctqY0"
      },
      "execution_count": null,
      "outputs": []
    },
    {
      "cell_type": "code",
      "source": [
        "from sklearn.model_selection import KFold\n",
        "\n",
        "def evaluate_model(dataX, dataY, n_folds=2):\n",
        "    scores, histories = list(), list()\n",
        "\n",
        "    # Prepare cross-validation\n",
        "    kfold = KFold(n_folds, shuffle=True, random_state=1)\n",
        "\n",
        "    for train_ix, test_ix in kfold.split(dataX):\n",
        "        # Define the model\n",
        "        model = build_model()\n",
        "\n",
        "        # Select rows for train and test\n",
        "        trainX, trainY, testX, testY = dataX[train_ix], dataY[train_ix], dataX[test_ix], dataY[test_ix]\n",
        "\n",
        "        # Fit the model\n",
        "        history = model.fit(trainX, trainY, epochs=10, batch_size=32, validation_data=(testX, testY), verbose=0)\n",
        "\n",
        "        # Evaluate the model\n",
        "        _, acc = model.evaluate(testX, testY, verbose=0)\n",
        "        print('> %.3f' % (acc * 100.0))\n",
        "\n",
        "        # Store scores and histories\n",
        "        scores.append(acc)\n",
        "        histories.append(history)\n",
        "\n",
        "    return scores, histories\n"
      ],
      "metadata": {
        "id": "3MQUrDD2txqg"
      },
      "execution_count": null,
      "outputs": []
    },
    {
      "cell_type": "code",
      "source": [
        "import matplotlib.pyplot as plt\n",
        "\n",
        "def summarize_diagnostics(histories):\n",
        "    for i in range(len(histories)):\n",
        "        # Plot loss\n",
        "        plt.subplot(2, 1, 1)\n",
        "        plt.title('Cross Entropy Loss')\n",
        "        plt.plot(histories[i].history['loss'], color='blue', label='train')\n",
        "        plt.plot(histories[i].history['val_loss'], color='orange', label='test')\n",
        "\n",
        "        # Plot accuracy\n",
        "        plt.subplot(2, 1, 2)\n",
        "        plt.title('Classification Accuracy')\n",
        "        plt.plot(histories[i].history['accuracy'], color='blue', label='train')\n",
        "        plt.plot(histories[i].history['val_accuracy'], color='orange', label='test')\n",
        "\n",
        "        plt.show()\n",
        "\n"
      ],
      "metadata": {
        "id": "J1JXBnaUt47Y"
      },
      "execution_count": null,
      "outputs": []
    },
    {
      "cell_type": "code",
      "source": [
        "import matplotlib.pyplot as plt\n",
        "\n",
        "def summarize_performance(scores):\n",
        "    # Print summary\n",
        "    print('Accuracy: mean=%.3f std=%.3f, n=%d' % (mean(scores) * 100, std(scores) * 100, len(scores)))\n",
        "\n",
        "    # Box and whisker plots of results\n",
        "    plt.boxplot(scores)\n",
        "    plt.show()\n",
        "\n"
      ],
      "metadata": {
        "id": "cer-nXaGuGBr"
      },
      "execution_count": null,
      "outputs": []
    },
    {
      "cell_type": "code",
      "source": [
        "def run_test_harness():\n",
        "    # Load dataset\n",
        "    trainX, trainY, testX, testY = load_dataset()\n",
        "\n",
        "    # Prepare pixel data\n",
        "    trainX, testX = prep_pixels(trainX, testX)\n",
        "\n",
        "    # Evaluate model\n",
        "    scores, histories = evaluate_model(trainX, trainY)\n",
        "\n",
        "    # Learning curves\n",
        "    summarize_diagnostics(histories)\n",
        "\n",
        "    # Summarize estimated performance\n",
        "    summarize_performance(scores)\n"
      ],
      "metadata": {
        "id": "IupHJQOTuXt1"
      },
      "execution_count": null,
      "outputs": []
    },
    {
      "cell_type": "code",
      "source": [
        "# entry point, run the test harness\n",
        "run_test_harness()"
      ],
      "metadata": {
        "colab": {
          "base_uri": "https://localhost:8080/"
        },
        "id": "3DTzX_acuuVU",
        "outputId": "61df95cf-a2a3-4760-c346-e453ec92138d"
      },
      "execution_count": null,
      "outputs": [
        {
          "output_type": "stream",
          "name": "stdout",
          "text": [
            "Downloading data from https://storage.googleapis.com/tensorflow/tf-keras-datasets/mnist.npz\n",
            "11490434/11490434 [==============================] - 0s 0us/step\n"
          ]
        },
        {
          "output_type": "stream",
          "name": "stderr",
          "text": [
            "WARNING:tensorflow:Layer lstm will not use cuDNN kernels since it doesn't meet the criteria. It will use a generic GPU kernel as fallback when running on GPU.\n",
            "WARNING:tensorflow:Layer lstm_1 will not use cuDNN kernels since it doesn't meet the criteria. It will use a generic GPU kernel as fallback when running on GPU.\n"
          ]
        },
        {
          "output_type": "stream",
          "name": "stdout",
          "text": [
            "Model: \"sequential\"\n",
            "_________________________________________________________________\n",
            " Layer (type)                Output Shape              Param #   \n",
            "=================================================================\n",
            " lstm (LSTM)                 (None, 28, 128)           80384     \n",
            "                                                                 \n",
            " dropout (Dropout)           (None, 28, 128)           0         \n",
            "                                                                 \n",
            " lstm_1 (LSTM)               (None, 128)               131584    \n",
            "                                                                 \n",
            " dropout_1 (Dropout)         (None, 128)               0         \n",
            "                                                                 \n",
            " dense (Dense)               (None, 32)                4128      \n",
            "                                                                 \n",
            " dropout_2 (Dropout)         (None, 32)                0         \n",
            "                                                                 \n",
            " dense_1 (Dense)             (None, 10)                330       \n",
            "                                                                 \n",
            "=================================================================\n",
            "Total params: 216426 (845.41 KB)\n",
            "Trainable params: 216426 (845.41 KB)\n",
            "Non-trainable params: 0 (0.00 Byte)\n",
            "_________________________________________________________________\n",
            "None\n"
          ]
        }
      ]
    }
  ]
}