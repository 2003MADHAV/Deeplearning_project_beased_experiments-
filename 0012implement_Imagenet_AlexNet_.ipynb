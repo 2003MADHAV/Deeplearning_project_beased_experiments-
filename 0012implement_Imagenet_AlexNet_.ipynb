{
  "nbformat": 4,
  "nbformat_minor": 0,
  "metadata": {
    "colab": {
      "provenance": [],
      "authorship_tag": "ABX9TyMxqsn/yd3EnpZ435QPLoxZ",
      "include_colab_link": true
    },
    "kernelspec": {
      "name": "python3",
      "display_name": "Python 3"
    },
    "language_info": {
      "name": "python"
    }
  },
  "cells": [
    {
      "cell_type": "markdown",
      "metadata": {
        "id": "view-in-github",
        "colab_type": "text"
      },
      "source": [
        "<a href=\"https://colab.research.google.com/github/2003MADHAV/Deeplearning_project_beased_experiments-/blob/main/0012implement_Imagenet_AlexNet_.ipynb\" target=\"_parent\"><img src=\"https://colab.research.google.com/assets/colab-badge.svg\" alt=\"Open In Colab\"/></a>"
      ]
    },
    {
      "cell_type": "code",
      "execution_count": null,
      "metadata": {
        "colab": {
          "base_uri": "https://localhost:8080/"
        },
        "id": "jyeeMenSwWya",
        "outputId": "4589c90b-1e19-4b53-a4b6-905ca8066212"
      },
      "outputs": [
        {
          "output_type": "stream",
          "name": "stdout",
          "text": [
            "Downloading https://s3.amazonaws.com/deep-learning-models/image-models/imagenet_class_index.json to ./imagenet_class_index.json\n"
          ]
        },
        {
          "output_type": "stream",
          "name": "stderr",
          "text": [
            "100%|██████████| 35363/35363 [00:00<00:00, 195353.31it/s]\n",
            "/usr/local/lib/python3.10/dist-packages/torchvision/models/_utils.py:208: UserWarning: The parameter 'pretrained' is deprecated since 0.13 and may be removed in the future, please use 'weights' instead.\n",
            "  warnings.warn(\n",
            "/usr/local/lib/python3.10/dist-packages/torchvision/models/_utils.py:223: UserWarning: Arguments other than a weight enum or `None` for 'weights' are deprecated since 0.13 and may be removed in the future. The current behavior is equivalent to passing `weights=AlexNet_Weights.IMAGENET1K_V1`. You can also use `weights=AlexNet_Weights.DEFAULT` to get the most up-to-date weights.\n",
            "  warnings.warn(msg)\n",
            "Downloading: \"https://download.pytorch.org/models/alexnet-owt-7be5be79.pth\" to /root/.cache/torch/hub/checkpoints/alexnet-owt-7be5be79.pth\n",
            "100%|██████████| 233M/233M [00:04<00:00, 60.0MB/s]\n"
          ]
        }
      ],
      "source": [
        "import json\n",
        "from torchvision.datasets.utils import download_url\n",
        "import torch\n",
        "from torchvision import models\n",
        "from torchvision import transforms\n",
        "from PIL import Image\n",
        "\n",
        "# Download the ImageNet class index\n",
        "download_url(\"https://s3.amazonaws.com/deep-learning-models/image-models/imagenet_class_index.json\", \".\", \"imagenet_class_index.json\")\n",
        "\n",
        "# Load the ImageNet class labels\n",
        "with open(\"imagenet_class_index.json\", \"r\") as h:\n",
        "    labels = json.load(h)\n",
        "\n",
        "# Load the pre-trained AlexNet model\n",
        "alexnet = models.alexnet(pretrained=True)\n"
      ]
    },
    {
      "cell_type": "code",
      "source": [
        "preprocess_image = transforms.Compose([\n",
        "    transforms.Resize(256),\n",
        "    transforms.CenterCrop(224),\n",
        "    transforms.ToTensor(),\n",
        "    transforms.Normalize(mean=[0.485, 0.456, 0.406], std=[0.229, 0.224, 0.225])\n",
        "])\n"
      ],
      "metadata": {
        "id": "u9sbBUZkxk2M"
      },
      "execution_count": null,
      "outputs": []
    },
    {
      "cell_type": "code",
      "source": [
        "image = Image.open(\"/content/mkl.jpg\")\n",
        "image_tensor = preprocess_image(image)\n",
        "print(image_tensor.shape)\n",
        "\n",
        "input_tensor = torch.unsqueeze(image_tensor, 0)\n",
        "print(input_tensor.shape)\n",
        "\n",
        "batch_t = torch.unsqueeze(image_tensor, 0)\n",
        "alexnet.eval()\n",
        "\n",
        "with torch.no_grad():\n",
        "    predicted_out = alexnet(batch_t)\n",
        "    label_indices = predicted_out.argmax(dim=1)\n",
        "\n",
        "for p in label_indices:\n",
        "    print(labels[str(p.item())])\n"
      ],
      "metadata": {
        "colab": {
          "base_uri": "https://localhost:8080/"
        },
        "id": "U4wC1Iqlxzsx",
        "outputId": "c05657da-4315-4ed1-a2a5-fd19c15209fd"
      },
      "execution_count": null,
      "outputs": [
        {
          "output_type": "stream",
          "name": "stdout",
          "text": [
            "torch.Size([3, 224, 224])\n",
            "torch.Size([1, 3, 224, 224])\n",
            "['n03630383', 'lab_coat']\n"
          ]
        }
      ]
    },
    {
      "cell_type": "code",
      "source": [],
      "metadata": {
        "id": "sTNfmj_ByNBU"
      },
      "execution_count": null,
      "outputs": []
    }
  ]
}