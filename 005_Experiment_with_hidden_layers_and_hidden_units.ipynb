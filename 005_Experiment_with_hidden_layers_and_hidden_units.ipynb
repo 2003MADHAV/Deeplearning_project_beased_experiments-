{
  "cells": [
    {
      "cell_type": "markdown",
      "metadata": {
        "id": "view-in-github",
        "colab_type": "text"
      },
      "source": [
        "<a href=\"https://colab.research.google.com/github/2003MADHAV/Deeplearning_project_beased_experiments-/blob/main/005_Experiment_with_hidden_layers_and_hidden_units.ipynb\" target=\"_parent\"><img src=\"https://colab.research.google.com/assets/colab-badge.svg\" alt=\"Open In Colab\"/></a>"
      ]
    },
    {
      "cell_type": "markdown",
      "metadata": {
        "id": "YkIoU8IRHSIE"
      },
      "source": [
        "##### Experiment with hidden layers and hidden units\n",
        "\n",
        "The most commonly used layers in general neural networks are fullyconnected layers.\n",
        "\n",
        "In fully-connected layers, the units in two successive layers are all pairwise connected.\n",
        "\n",
        "However, the units within a layer don't share any connections.\n",
        "\n",
        "As stated before, the connections between the layers are also called trainable parameters.\n",
        "\n",
        "The weights of these connections are trained by the network.\n",
        "\n",
        "The more connections, the more parameters and the more complex patterns can be modeled.\n",
        "\n",
        "Most state-of-the-art models have 100+ million parameters.\n",
        "\n",
        "However, a deep neural network with many layers and units takes more time to train.\n",
        "\n",
        "Also, with extremely deep models the time to infer predictions takes significantly longer (which can be problematic in a real-time environment).\n",
        "\n",
        "We will see other popular layer types that are specific to their network types.\n",
        "\n",
        "Picking the correct number of hidden layers and hidden units can be important.\n",
        "\n",
        "When using too few nodes, the model won't be able to pick up all the signals, resulting in a low accuracy and poor predictive performance (underfitting).\n",
        "\n",
        "Using too many nodes, the model will tend to overfit on the training data, regularization techniques can be used to prevent overfitting and won't be able to generalize well.\n",
        "\n",
        "Therefore, we always have to look at the performance on the validation data to find the right balance.\n"
      ]
    },
    {
      "cell_type": "code",
      "execution_count": null,
      "metadata": {
        "id": "PqvPa5CjHSIH"
      },
      "outputs": [],
      "source": [
        "# Import libraries as follows\n",
        "\n",
        "import numpy as np\n",
        "import pandas as pd\n",
        "import matplotlib.pyplot as plt\n",
        "from sklearn.model_selection import train_test_split\n",
        "from sklearn.preprocessing import StandardScaler\n",
        "\n",
        "from keras.models import Sequential\n",
        "from keras.layers import Dense\n",
        "from tensorflow.keras.optimizers import SGD\n",
        "\n",
        "SEED = 2017"
      ]
    },
    {
      "cell_type": "code",
      "execution_count": null,
      "metadata": {
        "id": "1ync5cMpHSII"
      },
      "outputs": [],
      "source": [
        "# Data can be downloaded at https://archive.ics.uci.edu/ml/machine-learning-databases/wine-quality/winequality-red.csv"
      ]
    },
    {
      "cell_type": "code",
      "execution_count": null,
      "metadata": {
        "id": "cBoDJ9_vHSII"
      },
      "outputs": [],
      "source": [
        "# Load the dataset\n",
        "\n",
        "data = pd.read_csv(\"/content/winequality-red1.csv\")\n",
        "y=data['quality']\n",
        "X= data.drop(['quality'],axis=1)"
      ]
    },
    {
      "cell_type": "code",
      "execution_count": null,
      "metadata": {
        "id": "y0fQOK0UHSIJ"
      },
      "outputs": [],
      "source": [
        "# Split the dataset into training and testing\n",
        "\n",
        "X_train, X_test, y_train, y_test = train_test_split(X, y, test_size=0.2, random_state=SEED)"
      ]
    },
    {
      "cell_type": "code",
      "execution_count": null,
      "metadata": {
        "id": "8r5TdOyZHSIJ"
      },
      "outputs": [],
      "source": [
        "# Normalize the input data\n",
        "\n",
        "scaler = StandardScaler().fit(X_train)\n",
        "X_train = pd.DataFrame(scaler.transform(X_train))\n",
        "X_test = pd.DataFrame(scaler.transform(X_test))"
      ]
    },
    {
      "cell_type": "code",
      "execution_count": null,
      "metadata": {
        "colab": {
          "base_uri": "https://localhost:8080/"
        },
        "id": "5M6Bv9PeHSIJ",
        "outputId": "360afaf8-2da6-4947-b89c-60f65e245e32"
      },
      "outputs": [
        {
          "output_type": "stream",
          "name": "stdout",
          "text": [
            "Input Layers : 11\n"
          ]
        }
      ],
      "source": [
        "print(\"Input Layers :\", X_train.shape[1])"
      ]
    },
    {
      "cell_type": "code",
      "execution_count": null,
      "metadata": {
        "id": "Fo7uYqx2HSIK"
      },
      "outputs": [],
      "source": [
        "# Define the model and optimizer and compile\n",
        "\n",
        "model = Sequential()\n",
        "model.add(Dense(1024, input_dim=X_train.shape[1], activation='relu'))\n",
        "model.add(Dense(1024, activation='relu'))\n",
        "model.add(Dense(1024, activation='relu'))\n",
        "model.add(Dense(1024, activation='relu'))\n",
        "# Output layer\n",
        "model.add(Dense(1, activation='linear'))\n",
        "# Set optimizer\n",
        "opt = SGD(learning_rate=0.01)\n",
        "# Compile model\n",
        "model.compile(loss='mse', optimizer=opt, metrics=['accuracy'])"
      ]
    },
    {
      "cell_type": "code",
      "execution_count": null,
      "metadata": {
        "colab": {
          "base_uri": "https://localhost:8080/"
        },
        "id": "S6wi9mKhHSIK",
        "outputId": "a2a6c8f6-ab00-46b1-d463-fb666d5e136f"
      },
      "outputs": [
        {
          "output_type": "stream",
          "name": "stdout",
          "text": [
            "Requirement already satisfied: pydot in /usr/local/lib/python3.10/dist-packages (1.4.2)\n",
            "Requirement already satisfied: pyparsing>=2.1.4 in /usr/local/lib/python3.10/dist-packages (from pydot) (3.1.1)\n"
          ]
        }
      ],
      "source": [
        "! pip install pydot"
      ]
    },
    {
      "cell_type": "code",
      "execution_count": null,
      "metadata": {
        "colab": {
          "base_uri": "https://localhost:8080/"
        },
        "id": "_ypbC7eiHSIK",
        "outputId": "17dbc15b-1ef7-4a1b-b2ce-697bceb438d5"
      },
      "outputs": [
        {
          "output_type": "stream",
          "name": "stdout",
          "text": [
            "Requirement already satisfied: pydotplus in /usr/local/lib/python3.10/dist-packages (2.0.2)\n",
            "Requirement already satisfied: pyparsing>=2.0.1 in /usr/local/lib/python3.10/dist-packages (from pydotplus) (3.1.1)\n"
          ]
        }
      ],
      "source": [
        "! pip install pydotplus"
      ]
    },
    {
      "cell_type": "code",
      "execution_count": null,
      "metadata": {
        "colab": {
          "base_uri": "https://localhost:8080/"
        },
        "id": "IrPKjTMEHSIK",
        "outputId": "372f5f4e-c371-4eec-bd41-f25c64e71948"
      },
      "outputs": [
        {
          "output_type": "stream",
          "name": "stdout",
          "text": [
            "Requirement already satisfied: graphviz in /usr/local/lib/python3.10/dist-packages (0.20.1)\n"
          ]
        }
      ],
      "source": [
        "! pip install graphviz"
      ]
    },
    {
      "cell_type": "code",
      "execution_count": null,
      "metadata": {
        "colab": {
          "base_uri": "https://localhost:8080/",
          "height": 644
        },
        "id": "u1fgCjmFHSIL",
        "outputId": "0fb8a340-1b1b-4a20-fec8-d500aa517af6"
      },
      "outputs": [
        {
          "output_type": "execute_result",
          "data": {
            "image/png": "[encoded data removed]",
            "text/plain": [
              "<IPython.core.display.Image object>"
            ]
          },
          "metadata": {},
          "execution_count": 28
        }
      ],
      "source": [
        "# Visualize network architecture\n",
        "from IPython.display import SVG\n",
        "#from keras.utils.vis_utils import model_to_dot\n",
        "#from keras.utils.vis_utils import plot_model\n",
        "from keras.utils import plot_model\n",
        "#SVG(model_to_dot(model, show_shapes=True).create(prog=\"dot\", format=\"svg\"))\n",
        "\n",
        "# Save the visualization as a file\n",
        "plot_model(model, show_shapes=True, to_file=\"network_model.png\")"
      ]
    },
    {
      "cell_type": "code",
      "execution_count": null,
      "metadata": {
        "colab": {
          "base_uri": "https://localhost:8080/"
        },
        "id": "y27UO2BvHSIL",
        "outputId": "55843afc-e6c9-4e13-9404-fef3712a2308"
      },
      "outputs": [
        {
          "output_type": "stream",
          "name": "stdout",
          "text": [
            "Epoch 1/5\n",
            "4/4 [==============================] - 2s 209ms/step - loss: 23.7687 - accuracy: 0.0000e+00 - val_loss: 6.6563 - val_accuracy: 0.0000e+00\n",
            "Epoch 2/5\n",
            "4/4 [==============================] - 1s 162ms/step - loss: 3.7097 - accuracy: 0.0000e+00 - val_loss: 1.8788 - val_accuracy: 0.0000e+00\n",
            "Epoch 3/5\n",
            "4/4 [==============================] - 1s 153ms/step - loss: 1.8563 - accuracy: 0.0000e+00 - val_loss: 1.2765 - val_accuracy: 0.0000e+00\n",
            "Epoch 4/5\n",
            "4/4 [==============================] - 1s 139ms/step - loss: 1.4240 - accuracy: 0.0000e+00 - val_loss: 1.0945 - val_accuracy: 0.0000e+00\n",
            "Epoch 5/5\n",
            "4/4 [==============================] - 1s 146ms/step - loss: 1.2563 - accuracy: 0.0000e+00 - val_loss: 1.0013 - val_accuracy: 0.0000e+00\n"
          ]
        }
      ],
      "source": [
        "# Set the hyperparameters and train the model\n",
        "\n",
        "n_epochs = 5\n",
        "batch_size = 256\n",
        "\n",
        "history = model.fit(X_train.values, y_train, batch_size=batch_size, epochs=n_epochs, validation_split=0.2, verbose=1)"
      ]
    },
    {
      "cell_type": "code",
      "execution_count": null,
      "metadata": {
        "colab": {
          "base_uri": "https://localhost:8080/"
        },
        "id": "_qhvmGzIHSIL",
        "outputId": "84347ddd-a9dc-4239-8012-d1444348945e"
      },
      "outputs": [
        {
          "output_type": "stream",
          "name": "stdout",
          "text": [
            "10/10 [==============================] - 0s 9ms/step\n",
            "Test accuracy: 38.12%\n"
          ]
        }
      ],
      "source": [
        "# Predict on the test set\n",
        "\n",
        "predictions = model.predict(X_test.values)\n",
        "print('Test accuracy: {:f>2}%'.format(np.round(np.sum([y_test==predictions.flatten().round()])/y_test.shape[0]*100, 2)))"
      ]
    },
    {
      "cell_type": "code",
      "execution_count": null,
      "metadata": {
        "colab": {
          "base_uri": "https://localhost:8080/"
        },
        "id": "Sy5hDGdCHSIL",
        "outputId": "3289679a-bb7a-4768-a764-4b5edc39c734"
      },
      "outputs": [
        {
          "output_type": "stream",
          "name": "stdout",
          "text": [
            "dict_keys(['loss', 'accuracy', 'val_loss', 'val_accuracy'])\n"
          ]
        }
      ],
      "source": [
        "# list all data in history\n",
        "print(history.history.keys())"
      ]
    },
    {
      "cell_type": "code",
      "execution_count": null,
      "metadata": {
        "colab": {
          "base_uri": "https://localhost:8080/"
        },
        "id": "5Mq4UZCOHSIL",
        "outputId": "156d56d5-fb66-4755-b41c-a1dcb2d7b857"
      },
      "outputs": [
        {
          "output_type": "execute_result",
          "data": {
            "text/plain": [
              "(array([0, 1, 2, 3, 4]), [0.0, 0.0, 0.0, 0.0, 0.0])"
            ]
          },
          "metadata": {},
          "execution_count": 25
        }
      ],
      "source": [
        "np.arange(len(history.history['val_accuracy'])), history.history['val_accuracy']"
      ]
    },
    {
      "cell_type": "code",
      "execution_count": null,
      "metadata": {
        "colab": {
          "base_uri": "https://localhost:8080/",
          "height": 472
        },
        "id": "2U2dVxYFHSIL",
        "outputId": "7d6b7949-90b3-47ff-ed8d-9d8f629768cc"
      },
      "outputs": [
        {
          "output_type": "display_data",
          "data": {
            "text/plain": [
              "<Figure size 640x480 with 1 Axes>"
            ],
            "image/png": "[encoded data removed]"
          },
          "metadata": {}
        }
      ],
      "source": [
        "# Plot the training and validation accuracy\n",
        "\n",
        "plt.plot(np.arange(len(history.history['accuracy'])), history.history['accuracy'], label='training')\n",
        "plt.plot(np.arange(len(history.history['val_accuracy'])), history.history['val_accuracy'], label='validation')\n",
        "plt.title('Accuracy')\n",
        "plt.xlabel('epochs')\n",
        "plt.ylabel('accuracy ')\n",
        "plt.legend(loc=0)\n",
        "plt.show()"
      ]
    },
    {
      "cell_type": "markdown",
      "metadata": {
        "id": "ufdAG_IlHSIL"
      },
      "source": [
        "Training and validation accuracy We should focus on the validation accuracy and use early stopping to stop the training after around 450 epochs.\n",
        "\n",
        "This results in the highest validation accuracy.\n",
        "\n",
        "\n",
        "we can Improve generalization with regularization and Adding dropout to prevent overfitting, we will introduce techniques to prevent overfitting.\n",
        "\n",
        "By using these techniques, we can create deeper models without overfitting on the training data.\n"
      ]
    }
  ],
  "metadata": {
    "kernelspec": {
      "display_name": "Python 3 (ipykernel)",
      "language": "python",
      "name": "python3"
    },
    "language_info": {
      "codemirror_mode": {
        "name": "ipython",
        "version": 3
      },
      "file_extension": ".py",
      "mimetype": "text/x-python",
      "name": "python",
      "nbconvert_exporter": "python",
      "pygments_lexer": "ipython3",
      "version": "3.11.3"
    },
    "colab": {
      "provenance": [],
      "include_colab_link": true
    }
  },
  "nbformat": 4,
  "nbformat_minor": 0
}