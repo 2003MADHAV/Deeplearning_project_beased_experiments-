{
  "nbformat": 4,
  "nbformat_minor": 0,
  "metadata": {
    "colab": {
      "provenance": [],
      "authorship_tag": "ABX9TyMJD8ryGz3jbnLIjE1h1Iii",
      "include_colab_link": true
    },
    "kernelspec": {
      "name": "python3",
      "display_name": "Python 3"
    },
    "language_info": {
      "name": "python"
    }
  },
  "cells": [
    {
      "cell_type": "markdown",
      "metadata": {
        "id": "view-in-github",
        "colab_type": "text"
      },
      "source": [
        "<a href=\"https://colab.research.google.com/github/2003MADHAV/Deeplearning_project_beased_experiments-/blob/main/0011To_implement_Image_Agumentation.ipynb\" target=\"_parent\"><img src=\"https://colab.research.google.com/assets/colab-badge.svg\" alt=\"Open In Colab\"/></a>"
      ]
    },
    {
      "cell_type": "code",
      "execution_count": null,
      "metadata": {
        "id": "zZay9qps5uSn"
      },
      "outputs": [],
      "source": [
        "import imageio\n",
        "import imgaug as ia\n",
        "import imgaug.augmenters as iaa\n",
        "import ipyplot\n",
        "\n",
        "input_img = imageio.imread('/content/pexels-samer-daboul-1212823.jpg')"
      ]
    },
    {
      "cell_type": "code",
      "source": [
        "import imgaug.augmenters as iaa\n",
        "import ipyplot\n",
        "\n",
        "# Horizontal Flip\n",
        "hflip = iaa.Fliplr(p=1.0)\n",
        "input_hf = hflip.augment_image(input_img)\n",
        "\n",
        "# Vertical Flip\n",
        "vflip = iaa.Flipud(p=1.0)\n",
        "input_vf = vflip.augment_image(input_img)\n",
        "\n",
        "images_list = [input_img, input_hf, input_vf]\n",
        "labels = ['Original', 'Horizontally flipped', 'Vertically flipped']\n",
        "\n",
        "ipyplot.plot_images(images_list, labels=labels, img_width=180)\n"
      ],
      "metadata": {
        "id": "5HyX60865y56"
      },
      "execution_count": null,
      "outputs": []
    },
    {
      "cell_type": "code",
      "source": [
        "rot1 = iaa.Affine(rotate=(-90, 20))\n",
        "input_rot1 = rot1.augment_image(input_img)\n",
        "\n",
        "images_list = [input_img, input_rot1]\n",
        "labels = ['Original', 'Rotated Image']\n",
        "\n",
        "ipyplot.plot_images(images_list, labels=labels, img_width=180)\n"
      ],
      "metadata": {
        "id": "U0E0MGpI51PT"
      },
      "execution_count": null,
      "outputs": []
    },
    {
      "cell_type": "code",
      "source": [
        "crop1 = iaa.Crop(percent=(0, 0.3))\n",
        "input_crop1 = crop1.augment_image(input_img)\n",
        "\n",
        "images_list = [input_img, input_crop1]\n",
        "labels = ['Original', 'Cropped Image']\n",
        "\n",
        "ipyplot.plot_images(images_list, labels=labels, img_width=180)\n"
      ],
      "metadata": {
        "id": "i7QzVvQw53Hy"
      },
      "execution_count": null,
      "outputs": []
    },
    {
      "cell_type": "code",
      "source": [
        "noise = iaa.AdditiveGaussianNoise(10, 40)\n",
        "input_noise = noise.augment_image(input_img)\n",
        "\n",
        "images_list = [input_img, input_noise]\n",
        "labels = ['Original', 'Gaussian Noise Image']\n",
        "\n",
        "ipyplot.plot_images(images_list, labels=labels, img_width=180)\n"
      ],
      "metadata": {
        "id": "WMQoLVpx553S"
      },
      "execution_count": null,
      "outputs": []
    },
    {
      "cell_type": "code",
      "source": [
        "shear = iaa.Affine(shear=(-40, 40))\n",
        "input_shear = shear.augment_image(input_img)\n",
        "\n",
        "images_list = [input_img, input_shear]\n",
        "labels = ['Original', 'Image Shearing']\n",
        "\n",
        "ipyplot.plot_images(images_list, labels=labels, img_width=180)\n"
      ],
      "metadata": {
        "id": "AjbWc4m458wY"
      },
      "execution_count": null,
      "outputs": []
    },
    {
      "cell_type": "code",
      "source": [
        "contrast = iaa.GammaContrast((0.5, 2.0))\n",
        "contrast_sig = iaa.SigmoidContrast(gain=(5, 10), cutoff=(0.4, 0.6))\n",
        "contrast_lin = iaa.LinearContrast((0.6, 0.4))\n",
        "\n",
        "input_contrast = contrast.augment_image(input_img)\n",
        "sigmoid_contrast = contrast_sig.augment_image(input_img)\n",
        "linear_contrast = contrast_lin.augment_image(input_img)\n",
        "\n",
        "images_list = [input_img, input_contrast, sigmoid_contrast, linear_contrast]\n",
        "labels = ['Original', 'Gamma Contrast', 'Sigmoid Contrast', 'Linear Contrast']\n",
        "\n",
        "ipyplot.plot_images(images_list, labels=labels, img_width=180)\n"
      ],
      "metadata": {
        "id": "VqND4rHp6B9H"
      },
      "execution_count": null,
      "outputs": []
    },
    {
      "cell_type": "code",
      "source": [
        "elastic = iaa.ElasticTransformation(alpha=60.0, sigma=4.0)\n",
        "polar = iaa.WithPolarWarping(iaa.CropAndPad(percent=(-0.2, 0.7)))\n",
        "jigsaw = iaa.Jigsaw(nb_rows=20, nb_cols=15, max_steps=(3, 7))\n",
        "\n",
        "input_elastic = elastic.augment_image(input_img)\n",
        "input_polar = polar.augment_image(input_img)\n",
        "input_jigsaw = jigsaw.augment_image(input_img)\n",
        "\n",
        "images_list = [input_img, input_elastic, input_polar, input_jigsaw]\n",
        "labels = ['Original', 'Elastic', 'Polar', 'Jigsaw']\n",
        "\n",
        "ipyplot.plot_images(images_list, labels=labels, img_width=180)\n"
      ],
      "metadata": {
        "id": "A6ceq9gE6C0c"
      },
      "execution_count": null,
      "outputs": []
    }
  ]
}