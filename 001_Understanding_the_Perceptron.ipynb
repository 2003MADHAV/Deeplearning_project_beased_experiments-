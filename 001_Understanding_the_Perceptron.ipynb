{
  "cells": [
    {
      "cell_type": "markdown",
      "metadata": {
        "id": "view-in-github",
        "colab_type": "text"
      },
      "source": [
        "<a href=\"https://colab.research.google.com/github/2003MADHAV/Deeplearning_project_beased_experiments-/blob/main/001_Understanding_the_Perceptron.ipynb\" target=\"_parent\"><img src=\"https://colab.research.google.com/assets/colab-badge.svg\" alt=\"Open In Colab\"/></a>"
      ]
    },
    {
      "cell_type": "code",
      "execution_count": null,
      "metadata": {
        "id": "nnZpcNNVsaiO"
      },
      "outputs": [],
      "source": [
        "# Import the libraries and dataset\n",
        "import numpy as np\n",
        "from sklearn.model_selection import train_test_split\n",
        "import matplotlib.pyplot as plt\n",
        "# We will be using the Iris Plants Database\n",
        "from sklearn.datasets import load_iris\n",
        "\n",
        "SEED = 2017"
      ]
    },
    {
      "cell_type": "markdown",
      "metadata": {
        "id": "3I16zP7asaiQ"
      },
      "source": [
        "##### What is the purpose of seed in Python?\n",
        "\n",
        "The seed() method is used to initialize the random number generator.\n",
        "\n",
        "The random number generator needs a number to start with (a seed value), to be able to generate a random number.\n",
        "\n",
        "By default the random number generator uses the current system time.\n",
        "\n",
        "Seed function is used to save the state of a random function, so that it can generate same random numbers on multiple executions of the code on the same machine or on different machines"
      ]
    },
    {
      "cell_type": "code",
      "execution_count": null,
      "metadata": {
        "id": "DSVpFhXOsaiR"
      },
      "outputs": [],
      "source": [
        "# The first two classes (Iris-Setosa and Iris-Versicolour) are linear separable\n",
        "iris = load_iris()\n",
        "idxs = np.where(iris.target<2)\n",
        "X = iris.data[idxs]\n",
        "y = iris.target[idxs]"
      ]
    },
    {
      "cell_type": "code",
      "execution_count": null,
      "metadata": {
        "id": "m2dGxA4WsaiS",
        "outputId": "aa79ad81-6e99-4886-d8ee-3d4b502691e0"
      },
      "outputs": [
        {
          "data": {
            "text/plain": [
              "array([0, 0, 0, 0, 0, 0, 0, 0, 0, 0, 0, 0, 0, 0, 0, 0, 0, 0, 0, 0, 0, 0,\n",
              "       0, 0, 0, 0, 0, 0, 0, 0, 0, 0, 0, 0, 0, 0, 0, 0, 0, 0, 0, 0, 0, 0,\n",
              "       0, 0, 0, 0, 0, 0, 1, 1, 1, 1, 1, 1, 1, 1, 1, 1, 1, 1, 1, 1, 1, 1,\n",
              "       1, 1, 1, 1, 1, 1, 1, 1, 1, 1, 1, 1, 1, 1, 1, 1, 1, 1, 1, 1, 1, 1,\n",
              "       1, 1, 1, 1, 1, 1, 1, 1, 1, 1, 1, 1])"
            ]
          },
          "execution_count": 11,
          "metadata": {},
          "output_type": "execute_result"
        }
      ],
      "source": [
        "y"
      ]
    },
    {
      "cell_type": "code",
      "execution_count": null,
      "metadata": {
        "id": "GG91ISF-saiS",
        "outputId": "5e0eddd5-f171-4f71-80cc-faaa9fe8dade"
      },
      "outputs": [
        {
          "data": {
            "image/png": "[encoded data removed]",
            "text/plain": [
              "<Figure size 640x480 with 1 Axes>"
            ]
          },
          "metadata": {},
          "output_type": "display_data"
        }
      ],
      "source": [
        "# Let's plot the data for two of the four variables\n",
        "plt.scatter(X[y==0][:,0],X[y==0][:,2], color='green', label='Iris-Setosa')\n",
        "plt.scatter(X[y==1][:,0],X[y==1][:,2], color='red', label='Iris-Versicolour')\n",
        "plt.title('Iris Plants Database')\n",
        "plt.xlabel('sepal length in cm')\n",
        "plt.ylabel('sepal width in cm')\n",
        "plt.legend()\n",
        "plt.show()\n",
        "\n",
        "# In the following graph, we've plotted the distribution of the two classes"
      ]
    },
    {
      "cell_type": "code",
      "execution_count": null,
      "metadata": {
        "id": "HCRk2zNqsaiT"
      },
      "outputs": [],
      "source": [
        "# To validate our results, we split the data into training and validation sets\n",
        "\n",
        "X_train, X_val, y_train, y_val = train_test_split(X, y, test_size=0.2, random_state=SEED)"
      ]
    },
    {
      "cell_type": "code",
      "execution_count": null,
      "metadata": {
        "id": "iRUe0qOusaiT",
        "outputId": "9623ee39-c78d-4b85-a8f8-2a5bde1f8084"
      },
      "outputs": [
        {
          "name": "stdout",
          "output_type": "stream",
          "text": [
            "[[6.4 2.9 4.3 1.3]\n",
            " [6.1 2.8 4.7 1.2]\n",
            " [6.4 3.2 4.5 1.5]\n",
            " [6.  3.4 4.5 1.6]\n",
            " [5.1 3.4 1.5 0.2]\n",
            " [4.9 3.6 1.4 0.1]\n",
            " [4.7 3.2 1.6 0.2]\n",
            " [5.6 2.7 4.2 1.3]\n",
            " [5.5 2.4 3.8 1.1]\n",
            " [5.1 3.8 1.9 0.4]\n",
            " [5.  3.  1.6 0.2]\n",
            " [5.5 2.5 4.  1.3]\n",
            " [5.7 3.8 1.7 0.3]\n",
            " [4.8 3.  1.4 0.3]\n",
            " [5.8 4.  1.2 0.2]\n",
            " [6.6 3.  4.4 1.4]\n",
            " [5.2 4.1 1.5 0.1]\n",
            " [5.2 3.5 1.5 0.2]\n",
            " [5.7 2.8 4.5 1.3]\n",
            " [4.9 2.4 3.3 1. ]\n",
            " [5.  3.6 1.4 0.2]\n",
            " [6.3 3.3 4.7 1.6]\n",
            " [6.1 3.  4.6 1.4]\n",
            " [5.  2.3 3.3 1. ]\n",
            " [6.1 2.9 4.7 1.4]\n",
            " [5.5 2.4 3.7 1. ]\n",
            " [5.7 2.8 4.1 1.3]\n",
            " [4.6 3.4 1.4 0.3]\n",
            " [4.8 3.4 1.9 0.2]\n",
            " [6.7 3.1 4.7 1.5]\n",
            " [5.1 3.3 1.7 0.5]\n",
            " [4.5 2.3 1.3 0.3]\n",
            " [5.6 3.  4.1 1.3]\n",
            " [5.4 3.4 1.5 0.4]\n",
            " [5.1 3.8 1.6 0.2]\n",
            " [6.7 3.  5.  1.7]\n",
            " [5.1 3.8 1.5 0.3]\n",
            " [4.9 3.  1.4 0.2]\n",
            " [5.1 3.7 1.5 0.4]\n",
            " [5.7 3.  4.2 1.2]\n",
            " [5.8 2.7 3.9 1.2]\n",
            " [5.5 2.3 4.  1.3]\n",
            " [6.5 2.8 4.6 1.5]\n",
            " [5.9 3.  4.2 1.5]\n",
            " [5.4 3.9 1.3 0.4]\n",
            " [6.2 2.2 4.5 1.5]\n",
            " [5.5 3.5 1.3 0.2]\n",
            " [5.4 3.7 1.5 0.2]\n",
            " [5.1 2.5 3.  1.1]\n",
            " [4.8 3.1 1.6 0.2]\n",
            " [6.3 2.3 4.4 1.3]\n",
            " [5.  3.5 1.6 0.6]\n",
            " [5.6 2.9 3.6 1.3]\n",
            " [6.7 3.1 4.4 1.4]\n",
            " [5.6 2.5 3.9 1.1]\n",
            " [5.7 2.6 3.5 1. ]\n",
            " [6.1 2.8 4.  1.3]\n",
            " [5.  3.3 1.4 0.2]\n",
            " [5.7 2.9 4.2 1.3]\n",
            " [5.  3.2 1.2 0.2]\n",
            " [5.8 2.6 4.  1.2]\n",
            " [4.7 3.2 1.3 0.2]\n",
            " [5.2 3.4 1.4 0.2]\n",
            " [6.  2.7 5.1 1.6]\n",
            " [4.4 3.  1.3 0.2]\n",
            " [5.  3.5 1.3 0.3]\n",
            " [5.1 3.5 1.4 0.2]\n",
            " [6.3 2.5 4.9 1.5]\n",
            " [5.7 4.4 1.5 0.4]\n",
            " [5.  3.4 1.5 0.2]\n",
            " [4.6 3.2 1.4 0.2]\n",
            " [4.6 3.1 1.5 0.2]\n",
            " [6.6 2.9 4.6 1.3]\n",
            " [7.  3.2 4.7 1.4]\n",
            " [4.4 2.9 1.4 0.2]\n",
            " [4.4 3.2 1.3 0.2]\n",
            " [4.3 3.  1.1 0.1]\n",
            " [5.9 3.2 4.8 1.8]\n",
            " [4.9 3.1 1.5 0.1]\n",
            " [5.2 2.7 3.9 1.4]]\n",
            "[[5.  3.4 1.6 0.4]\n",
            " [4.8 3.  1.4 0.1]\n",
            " [5.  2.  3.5 1. ]\n",
            " [5.4 3.9 1.7 0.4]\n",
            " [5.6 3.  4.5 1.5]\n",
            " [5.8 2.7 4.1 1. ]\n",
            " [5.1 3.5 1.4 0.3]\n",
            " [5.5 4.2 1.4 0.2]\n",
            " [4.9 3.1 1.5 0.2]\n",
            " [6.8 2.8 4.8 1.4]\n",
            " [5.4 3.  4.5 1.5]\n",
            " [6.9 3.1 4.9 1.5]\n",
            " [5.4 3.4 1.7 0.2]\n",
            " [6.  2.2 4.  1. ]\n",
            " [4.6 3.6 1.  0.2]\n",
            " [5.3 3.7 1.5 0.2]\n",
            " [4.8 3.4 1.6 0.2]\n",
            " [6.2 2.9 4.3 1.3]\n",
            " [6.  2.9 4.5 1.5]\n",
            " [5.5 2.6 4.4 1.2]]\n",
            "[1 1 1 1 0 0 0 1 1 0 0 1 0 0 0 1 0 0 1 1 0 1 1 1 1 1 1 0 0 1 0 0 1 0 0 1 0\n",
            " 0 0 1 1 1 1 1 0 1 0 0 1 0 1 0 1 1 1 1 1 0 1 0 1 0 0 1 0 0 0 1 0 0 0 0 1 1\n",
            " 0 0 0 1 0 1]\n",
            "[0 0 1 0 1 1 0 0 0 1 1 1 0 1 0 0 0 1 1 1]\n"
          ]
        }
      ],
      "source": [
        "print(X_train)\n",
        "print(X_val)\n",
        "print(y_train)\n",
        "print(y_val)"
      ]
    },
    {
      "cell_type": "code",
      "execution_count": null,
      "metadata": {
        "id": "DEftc-UJsaiT"
      },
      "outputs": [],
      "source": [
        "# Next, we initialize the weights and the bias for the perceptron\n",
        "\n",
        "weights = np.random.normal(size=X_train.shape[1])\n",
        "bias = 1"
      ]
    },
    {
      "cell_type": "code",
      "execution_count": null,
      "metadata": {
        "id": "hIrZGYIAsaiU",
        "outputId": "ef67e460-9d80-49a8-d9f3-086c8f456bbb"
      },
      "outputs": [
        {
          "name": "stdout",
          "output_type": "stream",
          "text": [
            "[0.41774441 0.76262097 0.01869647 1.22737054]\n"
          ]
        }
      ],
      "source": [
        "print(weights)"
      ]
    },
    {
      "cell_type": "code",
      "execution_count": null,
      "metadata": {
        "id": "k7IBO4fwsaiU"
      },
      "outputs": [],
      "source": [
        "# Before training, we need to define the hyperparameters\n",
        "\n",
        "learning_rate = 0.1\n",
        "n_epochs = 15"
      ]
    },
    {
      "cell_type": "code",
      "execution_count": null,
      "metadata": {
        "id": "B394soLfsaiU",
        "outputId": "7b5e6d41-56e3-42c6-d6d7-a06365ccab7e"
      },
      "outputs": [
        {
          "data": {
            "text/plain": [
              "array([0., 0., 0., 0.])"
            ]
          },
          "execution_count": 17,
          "metadata": {},
          "output_type": "execute_result"
        }
      ],
      "source": [
        "np.zeros(weights.shape)"
      ]
    },
    {
      "cell_type": "code",
      "execution_count": null,
      "metadata": {
        "id": "GrEwrl7msaiV",
        "outputId": "6e03b2bc-c231-4fc7-ae7b-c51022f1f834"
      },
      "outputs": [
        {
          "name": "stdout",
          "output_type": "stream",
          "text": [
            "[1 1 1 1 1 1 1 1 1 1 1 1 1 1 1 1 1 1 1 1 1 1 1 1 1 1 1 1 1 1 1 1 1 1 1 1 1\n",
            " 1 1 1 1 1 1 1 1 1 1 1 1 1 1 1 1 1 1 1 1 1 1 1 1 1 1 1 1 1 1 1 1 1 1 1 1 1\n",
            " 1 1 1 1 1 1]\n",
            "Error:  0.5\n",
            "Weights: [-19.53225559 -12.85737903  -5.81130353   0.23737054]\n",
            "bias: 41.389999999999986\n",
            "[0 0 0 0 0 0 0 0 0 0 0 0 0 0 0 0 0 0 0 0 0 0 0 0 0 0 0 0 0 0 0 0 0 0 0 0 0\n",
            " 0 0 0 0 0 0 0 0 0 0 0 0 0 0 0 0 0 0 0 0 0 0 0 0 0 0 0 0 0 0 0 0 0 0 0 0 0\n",
            " 0 0 0 0 0 0]\n",
            "Error:  0.5\n",
            "Weights: [ 4.22774441 -1.72737903 11.13869647  5.57737054]\n",
            "bias: -15.79\n",
            "[1 1 1 1 1 1 1 1 1 1 1 1 1 1 1 1 1 1 1 1 1 1 1 1 1 1 1 1 1 1 1 1 1 1 1 1 1\n",
            " 1 1 1 1 1 1 1 1 1 1 1 1 1 1 1 1 1 1 1 1 1 1 1 1 1 1 1 1 1 1 1 1 1 1 1 1 1\n",
            " 1 1 1 1 1 1]\n",
            "Error:  0.5\n",
            "Weights: [-15.72225559 -15.34737903   5.30869647   4.58737054]\n",
            "bias: 24.599999999999987\n",
            "[0 0 0 0 0 0 0 0 0 0 0 0 0 0 0 0 0 0 0 0 0 0 0 0 0 0 0 0 0 0 0 0 0 0 0 0 0\n",
            " 0 0 0 0 0 0 0 0 0 0 0 0 0 0 0 0 0 0 0 0 0 0 0 0 0 0 0 0 0 0 0 0 0 0 0 0 0\n",
            " 0 0 0 0 0 0]\n",
            "Error:  0.5\n",
            "Weights: [ 8.03774441 -4.21737903 22.25869647  9.92737054]\n",
            "bias: -32.58\n",
            "[1 1 1 1 1 1 1 1 1 1 1 1 1 1 1 1 1 1 1 1 1 1 1 1 1 1 1 1 1 1 1 1 1 1 1 1 1\n",
            " 1 1 1 1 1 1 1 1 1 1 1 1 1 1 1 1 1 1 1 1 1 1 1 1 1 1 1 1 1 1 1 1 1 1 1 1 1\n",
            " 1 1 1 1 1 1]\n",
            "Error:  0.5\n",
            "Weights: [-11.91225559 -17.83737903  16.42869647   8.93737054]\n",
            "bias: 7.809999999999988\n",
            "[0 0 0 0 0 0 0 0 0 0 0 0 0 0 0 0 0 0 0 0 0 0 0 0 0 0 0 0 0 0 0 0 0 0 0 0 0\n",
            " 0 0 0 0 0 0 0 0 0 0 0 0 0 0 0 0 0 0 0 0 0 0 0 0 0 0 0 0 0 0 0 0 0 0 0 0 0\n",
            " 0 0 0 0 0 0]\n",
            "Error:  0.5\n",
            "Weights: [11.84774441 -6.70737903 33.37869647 14.27737054]\n",
            "bias: -49.37\n",
            "[1 1 1 1 1 1 1 1 1 1 1 1 1 1 1 1 1 1 1 1 1 1 1 1 1 1 1 1 1 1 1 1 1 1 1 1 1\n",
            " 1 1 1 1 1 1 1 1 1 1 1 1 1 1 1 1 1 1 1 1 1 1 1 1 1 1 1 1 1 1 1 1 1 1 1 1 1\n",
            " 1 1 1 1 1 1]\n",
            "Error:  0.5\n",
            "Weights: [ -8.10225559 -20.32737903  27.54869647  13.28737054]\n",
            "bias: -8.980000000000011\n",
            "[1 1 1 1 0 0 0 1 1 0 0 1 0 0 0 1 0 0 1 1 0 1 1 1 1 1 1 0 0 1 0 0 1 0 0 1 0\n",
            " 0 0 1 1 1 1 1 0 1 0 0 0 0 1 0 1 1 1 1 1 0 1 0 1 0 0 1 0 0 0 1 0 0 0 0 1 1\n",
            " 0 0 0 1 0 1]\n",
            "Error:  0.0125\n",
            "Weights: [ -7.59225559 -20.07737903  27.84869647  13.39737054]\n",
            "bias: -10.150000000000011\n",
            "[1 1 1 1 0 0 0 1 1 0 0 1 0 0 0 1 0 0 1 1 0 1 1 1 1 1 1 0 0 1 0 0 1 0 0 1 0\n",
            " 0 0 1 1 1 1 1 0 1 0 0 0 0 1 0 1 1 1 1 1 0 1 0 1 0 0 1 0 0 0 1 0 0 0 0 1 1\n",
            " 0 0 0 1 0 1]\n",
            "Error:  0.0125\n",
            "Weights: [ -7.08225559 -19.82737903  28.14869647  13.50737054]\n",
            "bias: -11.320000000000011\n",
            "[1 1 1 1 0 0 0 1 1 0 0 1 0 0 0 1 0 0 1 1 0 1 1 1 1 1 1 0 0 1 0 0 1 0 0 1 0\n",
            " 0 0 1 1 1 1 1 0 1 0 0 1 0 1 0 1 1 1 1 1 0 1 0 1 0 0 1 0 0 0 1 0 0 0 0 1 1\n",
            " 0 0 0 1 0 1]\n",
            "Error:  0.0\n",
            "Weights: [ -7.08225559 -19.82737903  28.14869647  13.50737054]\n",
            "bias: -11.320000000000011\n",
            "[1 1 1 1 0 0 0 1 1 0 0 1 0 0 0 1 0 0 1 1 0 1 1 1 1 1 1 0 0 1 0 0 1 0 0 1 0\n",
            " 0 0 1 1 1 1 1 0 1 0 0 1 0 1 0 1 1 1 1 1 0 1 0 1 0 0 1 0 0 0 1 0 0 0 0 1 1\n",
            " 0 0 0 1 0 1]\n",
            "Error:  0.0\n",
            "Weights: [ -7.08225559 -19.82737903  28.14869647  13.50737054]\n",
            "bias: -11.320000000000011\n",
            "[1 1 1 1 0 0 0 1 1 0 0 1 0 0 0 1 0 0 1 1 0 1 1 1 1 1 1 0 0 1 0 0 1 0 0 1 0\n",
            " 0 0 1 1 1 1 1 0 1 0 0 1 0 1 0 1 1 1 1 1 0 1 0 1 0 0 1 0 0 0 1 0 0 0 0 1 1\n",
            " 0 0 0 1 0 1]\n",
            "Error:  0.0\n",
            "Weights: [ -7.08225559 -19.82737903  28.14869647  13.50737054]\n",
            "bias: -11.320000000000011\n",
            "[1 1 1 1 0 0 0 1 1 0 0 1 0 0 0 1 0 0 1 1 0 1 1 1 1 1 1 0 0 1 0 0 1 0 0 1 0\n",
            " 0 0 1 1 1 1 1 0 1 0 0 1 0 1 0 1 1 1 1 1 0 1 0 1 0 0 1 0 0 0 1 0 0 0 0 1 1\n",
            " 0 0 0 1 0 1]\n",
            "Error:  0.0\n",
            "Weights: [ -7.08225559 -19.82737903  28.14869647  13.50737054]\n",
            "bias: -11.320000000000011\n",
            "[1 1 1 1 0 0 0 1 1 0 0 1 0 0 0 1 0 0 1 1 0 1 1 1 1 1 1 0 0 1 0 0 1 0 0 1 0\n",
            " 0 0 1 1 1 1 1 0 1 0 0 1 0 1 0 1 1 1 1 1 0 1 0 1 0 0 1 0 0 0 1 0 0 0 0 1 1\n",
            " 0 0 0 1 0 1]\n",
            "Error:  0.0\n",
            "Weights: [ -7.08225559 -19.82737903  28.14869647  13.50737054]\n",
            "bias: -11.320000000000011\n",
            "[1 1 1 1 0 0 0 1 1 0 0 1 0 0 0 1 0 0 1 1 0 1 1 1 1 1 1 0 0 1 0 0 1 0 0 1 0\n",
            " 0 0 1 1 1 1 1 0 1 0 0 1 0 1 0 1 1 1 1 1 0 1 0 1 0 0 1 0 0 0 1 0 0 0 0 1 1\n",
            " 0 0 0 1 0 1]\n",
            "Error:  0.0\n",
            "Weights: [ -7.08225559 -19.82737903  28.14869647  13.50737054]\n",
            "bias: -11.320000000000011\n"
          ]
        }
      ],
      "source": [
        "# Now, we can start training our perceptron with a for loop\n",
        "\n",
        "del_w = np.zeros(weights.shape)\n",
        "hist_loss = []\n",
        "hist_accuracy = []\n",
        "\n",
        "for i in range(n_epochs):\n",
        "    # We apply a simple step function, if the output is > 0.5 we predict 1, else 0\n",
        "    output = np.where((X_train.dot(weights)+bias)>0.5, 1, 0)\n",
        "    print(output)\n",
        "\n",
        "    # Compute MSE\n",
        "    error = np.mean((y_train-output)**2)\n",
        "    print(\"Error: \", error)\n",
        "\n",
        "    # Update weights and bias\n",
        "    weights-= learning_rate * np.dot((output-y_train), X_train)\n",
        "    bias += learning_rate * np.sum(np.dot((output-y_train), X_train))\n",
        "    print(\"Weights:\", weights)\n",
        "    print(\"bias:\", bias)\n",
        "\n",
        "    # Calculate MSE\n",
        "    loss = np.mean((output - y_train) ** 2)\n",
        "    hist_loss.append(loss)\n",
        "\n",
        "    # Determine validation accuracy\n",
        "    output_val = np.where(X_val.dot(weights)>0.5, 1, 0)\n",
        "    accuracy = np.mean(np.where(y_val==output_val, 1, 0))\n",
        "    hist_accuracy.append(accuracy)"
      ]
    },
    {
      "cell_type": "code",
      "execution_count": null,
      "metadata": {
        "id": "UoxR4uCFsaiV",
        "outputId": "bd914d33-c025-4193-894f-649e9172fdfd"
      },
      "outputs": [
        {
          "data": {
            "text/plain": [
              "array([1, 1, 1, 1, 0, 0, 0, 1, 1, 0, 0, 1, 0, 0, 0, 1, 0, 0, 1, 1, 0, 1,\n",
              "       1, 1, 1, 1, 1, 0, 0, 1, 0, 0, 1, 0, 0, 1, 0, 0, 0, 1, 1, 1, 1, 1,\n",
              "       0, 1, 0, 0, 1, 0, 1, 0, 1, 1, 1, 1, 1, 0, 1, 0, 1, 0, 0, 1, 0, 0,\n",
              "       0, 1, 0, 0, 0, 0, 1, 1, 0, 0, 0, 1, 0, 1])"
            ]
          },
          "execution_count": 19,
          "metadata": {},
          "output_type": "execute_result"
        }
      ],
      "source": [
        "output"
      ]
    },
    {
      "cell_type": "code",
      "execution_count": null,
      "metadata": {
        "id": "h1FqlmANsaiV",
        "outputId": "00f2b4d2-5c82-4f9d-b4e5-2b612a81cf3f"
      },
      "outputs": [
        {
          "data": {
            "image/png": "[encoded data removed]",
            "text/plain": [
              "<Figure size 800x400 with 2 Axes>"
            ]
          },
          "metadata": {},
          "output_type": "display_data"
        }
      ],
      "source": [
        "# We've saved the training loss and validation accuracy so that we can plot them\n",
        "\n",
        "fig = plt.figure(figsize=(8, 4))\n",
        "a = fig.add_subplot(1,2,1)\n",
        "imgplot = plt.plot(hist_loss)\n",
        "plt.xlabel('epochs')\n",
        "a.set_title('Training loss')\n",
        "\n",
        "a=fig.add_subplot(1,2,2)\n",
        "imgplot = plt.plot(hist_accuracy)\n",
        "plt.xlabel('epochs')\n",
        "a.set_title('Validation Accuracy')\n",
        "plt.show()"
      ]
    },
    {
      "cell_type": "code",
      "execution_count": null,
      "metadata": {
        "id": "x-Z5V3YHsaiW"
      },
      "outputs": [],
      "source": []
    }
  ],
  "metadata": {
    "kernelspec": {
      "display_name": "Python 3 (ipykernel)",
      "language": "python",
      "name": "python3"
    },
    "language_info": {
      "codemirror_mode": {
        "name": "ipython",
        "version": 3
      },
      "file_extension": ".py",
      "mimetype": "text/x-python",
      "name": "python",
      "nbconvert_exporter": "python",
      "pygments_lexer": "ipython3",
      "version": "3.11.3"
    },
    "colab": {
      "provenance": [],
      "include_colab_link": true
    }
  },
  "nbformat": 4,
  "nbformat_minor": 0
}